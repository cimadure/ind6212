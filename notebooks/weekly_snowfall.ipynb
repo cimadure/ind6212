{
 "cells": [
  {
   "attachments": {},
   "cell_type": "markdown",
   "metadata": {},
   "source": [
    "# Introduction\n",
    "\n",
    "This notebook contains the analysis of weekly snowall in montreal from 2016 to 2022. We will aggregate all the data regarding the snow recovered from the snow removal strategy while comparing the actual snowfall."
   ]
  },
  {
   "cell_type": "code",
   "execution_count": 97,
   "metadata": {},
   "outputs": [],
   "source": [
    "import pandas as pd\n",
    "from pandas.tseries.frequencies import to_offset\n",
    "import matplotlib.pyplot as plt\n",
    "import numpy as np\n",
    "import seaborn as sns\n",
    "\n",
    "plt.style.use(\"ggplot\")\n",
    "\n"
   ]
  },
  {
   "attachments": {},
   "cell_type": "markdown",
   "metadata": {},
   "source": [
    "# Importing Snow recovery data"
   ]
  },
  {
   "cell_type": "code",
   "execution_count": 2,
   "metadata": {},
   "outputs": [
    {
     "name": "stderr",
     "output_type": "stream",
     "text": [
      "C:\\Users\\pcorreia\\AppData\\Local\\Temp\\ipykernel_38712\\2964508961.py:1: DtypeWarning: Columns (3,13) have mixed types. Specify dtype option on import or set low_memory=False.\n",
      "  transaction_2016 = pd.read_csv(\"../data/transaction/transactions_deneigement_saison_2016-2017.csv\", index_col=0)\n",
      "C:\\Users\\pcorreia\\AppData\\Local\\Temp\\ipykernel_38712\\2964508961.py:3: DtypeWarning: Columns (3,13) have mixed types. Specify dtype option on import or set low_memory=False.\n",
      "  transaction_2018 = pd.read_csv(\"../data/transaction/transactions_deneigement_saison_2018-2019.csv\", index_col=0)\n"
     ]
    }
   ],
   "source": [
    "transaction_2016 = pd.read_csv(\"../data/transaction/transactions_deneigement_saison_2016-2017.csv\", index_col=0)\n",
    "# transaction_2017 = pd.read_csv(\"../data/transaction/transactions_deneigement_saison_2017-2018.csv\", index_col=0)\n",
    "transaction_2018 = pd.read_csv(\"../data/transaction/transactions_deneigement_saison_2018-2019.csv\", index_col=0)\n",
    "transaction_2019 = pd.read_csv(\"../data/transaction/transactions_deneigement_saison_2019-2020.csv\", index_col=0)\n",
    "transaction_2020 = pd.read_csv(\"../data/transaction/transactions_deneigement_saison_2020-2021.csv\", index_col=0)\n",
    "transaction_2021 = pd.read_csv(\"../data/transaction/transactions_deneigement_saison_2021-2022.csv\", index_col=0)\n",
    "transaction_2022 = pd.read_csv(\"../data/transaction/transactions_deneigement_saison_2022-2023.csv\", index_col=0)"
   ]
  },
  {
   "attachments": {},
   "cell_type": "markdown",
   "metadata": {},
   "source": [
    "# Preprocessing datasets"
   ]
  },
  {
   "attachments": {},
   "cell_type": "markdown",
   "metadata": {},
   "source": [
    "## Transaction 2016"
   ]
  },
  {
   "cell_type": "code",
   "execution_count": 3,
   "metadata": {},
   "outputs": [
    {
     "name": "stdout",
     "output_type": "stream",
     "text": [
      "<class 'pandas.core.frame.DataFrame'>\n",
      "Int64Index: 338809 entries, 375501 to 613543\n",
      "Data columns (total 13 columns):\n",
      " #   Column                     Non-Null Count   Dtype  \n",
      "---  ------                     --------------   -----  \n",
      " 0   DateChargement             338809 non-null  object \n",
      " 1   Idenfiantsecteur           319642 non-null  float64\n",
      " 2   NomSecteur                 319642 non-null  object \n",
      " 3   IdentifiantArrondissement  338809 non-null  int64  \n",
      " 4   ArrondissementCode         338809 non-null  object \n",
      " 5   Arrondissement             338809 non-null  object \n",
      " 6   IdentifiantDepot           338809 non-null  int64  \n",
      " 7   NomDepot                   338809 non-null  object \n",
      " 8   DateDéchargement           338809 non-null  object \n",
      " 9   volume                     338809 non-null  float64\n",
      " 10  TypeTransaction            338809 non-null  object \n",
      " 11  IdentifiantContrat         319642 non-null  float64\n",
      " 12  NuméroContrat              319642 non-null  object \n",
      "dtypes: float64(3), int64(2), object(8)\n",
      "memory usage: 36.2+ MB\n"
     ]
    }
   ],
   "source": [
    "transaction_2016.info()"
   ]
  },
  {
   "cell_type": "code",
   "execution_count": 4,
   "metadata": {},
   "outputs": [
    {
     "data": {
      "text/html": [
       "<div>\n",
       "<style scoped>\n",
       "    .dataframe tbody tr th:only-of-type {\n",
       "        vertical-align: middle;\n",
       "    }\n",
       "\n",
       "    .dataframe tbody tr th {\n",
       "        vertical-align: top;\n",
       "    }\n",
       "\n",
       "    .dataframe thead th {\n",
       "        text-align: right;\n",
       "    }\n",
       "</style>\n",
       "<table border=\"1\" class=\"dataframe\">\n",
       "  <thead>\n",
       "    <tr style=\"text-align: right;\">\n",
       "      <th></th>\n",
       "      <th>DateChargement</th>\n",
       "      <th>Idenfiantsecteur</th>\n",
       "      <th>NomSecteur</th>\n",
       "      <th>IdentifiantArrondissement</th>\n",
       "      <th>ArrondissementCode</th>\n",
       "      <th>Arrondissement</th>\n",
       "      <th>IdentifiantDepot</th>\n",
       "      <th>NomDepot</th>\n",
       "      <th>DateDéchargement</th>\n",
       "      <th>volume</th>\n",
       "      <th>TypeTransaction</th>\n",
       "      <th>IdentifiantContrat</th>\n",
       "      <th>NuméroContrat</th>\n",
       "    </tr>\n",
       "    <tr>\n",
       "      <th>TransactionID</th>\n",
       "      <th></th>\n",
       "      <th></th>\n",
       "      <th></th>\n",
       "      <th></th>\n",
       "      <th></th>\n",
       "      <th></th>\n",
       "      <th></th>\n",
       "      <th></th>\n",
       "      <th></th>\n",
       "      <th></th>\n",
       "      <th></th>\n",
       "      <th></th>\n",
       "      <th></th>\n",
       "    </tr>\n",
       "  </thead>\n",
       "  <tbody>\n",
       "    <tr>\n",
       "      <th>375501</th>\n",
       "      <td>2016-12-13 10:45:02</td>\n",
       "      <td>104.0</td>\n",
       "      <td>SLA-353</td>\n",
       "      <td>13</td>\n",
       "      <td>SLA</td>\n",
       "      <td>Saint-Laurent</td>\n",
       "      <td>49</td>\n",
       "      <td>Thimens (SLA)</td>\n",
       "      <td>2016-12-13 10:53:27</td>\n",
       "      <td>59.64</td>\n",
       "      <td>AUT</td>\n",
       "      <td>354.0</td>\n",
       "      <td>SLA-353</td>\n",
       "    </tr>\n",
       "    <tr>\n",
       "      <th>375636</th>\n",
       "      <td>2016-12-13 10:58:44</td>\n",
       "      <td>95.0</td>\n",
       "      <td>MTN-303</td>\n",
       "      <td>14</td>\n",
       "      <td>MTN</td>\n",
       "      <td>Montréal-Nord</td>\n",
       "      <td>58</td>\n",
       "      <td>St-Michel - Charland (VSP)</td>\n",
       "      <td>2016-12-13 11:06:26</td>\n",
       "      <td>28.76</td>\n",
       "      <td>AUT</td>\n",
       "      <td>327.0</td>\n",
       "      <td>MTN-303</td>\n",
       "    </tr>\n",
       "    <tr>\n",
       "      <th>375657</th>\n",
       "      <td>2016-12-13 11:01:01</td>\n",
       "      <td>95.0</td>\n",
       "      <td>MTN-303</td>\n",
       "      <td>14</td>\n",
       "      <td>MTN</td>\n",
       "      <td>Montréal-Nord</td>\n",
       "      <td>58</td>\n",
       "      <td>St-Michel - Charland (VSP)</td>\n",
       "      <td>2016-12-13 11:08:59</td>\n",
       "      <td>31.34</td>\n",
       "      <td>AUT</td>\n",
       "      <td>327.0</td>\n",
       "      <td>MTN-303</td>\n",
       "    </tr>\n",
       "    <tr>\n",
       "      <th>375778</th>\n",
       "      <td>2016-12-13 11:11:01</td>\n",
       "      <td>104.0</td>\n",
       "      <td>SLA-353</td>\n",
       "      <td>13</td>\n",
       "      <td>SLA</td>\n",
       "      <td>Saint-Laurent</td>\n",
       "      <td>49</td>\n",
       "      <td>Thimens (SLA)</td>\n",
       "      <td>2016-12-13 11:19:52</td>\n",
       "      <td>59.64</td>\n",
       "      <td>AUT</td>\n",
       "      <td>354.0</td>\n",
       "      <td>SLA-353</td>\n",
       "    </tr>\n",
       "    <tr>\n",
       "      <th>375901</th>\n",
       "      <td>2016-12-13 11:26:03</td>\n",
       "      <td>95.0</td>\n",
       "      <td>MTN-303</td>\n",
       "      <td>14</td>\n",
       "      <td>MTN</td>\n",
       "      <td>Montréal-Nord</td>\n",
       "      <td>58</td>\n",
       "      <td>St-Michel - Charland (VSP)</td>\n",
       "      <td>2016-12-13 11:33:39</td>\n",
       "      <td>28.76</td>\n",
       "      <td>AUT</td>\n",
       "      <td>327.0</td>\n",
       "      <td>MTN-303</td>\n",
       "    </tr>\n",
       "  </tbody>\n",
       "</table>\n",
       "</div>"
      ],
      "text/plain": [
       "                    DateChargement  Idenfiantsecteur NomSecteur  \\\n",
       "TransactionID                                                     \n",
       "375501         2016-12-13 10:45:02             104.0    SLA-353   \n",
       "375636         2016-12-13 10:58:44              95.0    MTN-303   \n",
       "375657         2016-12-13 11:01:01              95.0    MTN-303   \n",
       "375778         2016-12-13 11:11:01             104.0    SLA-353   \n",
       "375901         2016-12-13 11:26:03              95.0    MTN-303   \n",
       "\n",
       "               IdentifiantArrondissement ArrondissementCode Arrondissement  \\\n",
       "TransactionID                                                                \n",
       "375501                                13                SLA  Saint-Laurent   \n",
       "375636                                14                MTN  Montréal-Nord   \n",
       "375657                                14                MTN  Montréal-Nord   \n",
       "375778                                13                SLA  Saint-Laurent   \n",
       "375901                                14                MTN  Montréal-Nord   \n",
       "\n",
       "               IdentifiantDepot                    NomDepot  \\\n",
       "TransactionID                                                 \n",
       "375501                       49               Thimens (SLA)   \n",
       "375636                       58  St-Michel - Charland (VSP)   \n",
       "375657                       58  St-Michel - Charland (VSP)   \n",
       "375778                       49               Thimens (SLA)   \n",
       "375901                       58  St-Michel - Charland (VSP)   \n",
       "\n",
       "                  DateDéchargement  volume TypeTransaction  \\\n",
       "TransactionID                                                \n",
       "375501         2016-12-13 10:53:27   59.64             AUT   \n",
       "375636         2016-12-13 11:06:26   28.76             AUT   \n",
       "375657         2016-12-13 11:08:59   31.34             AUT   \n",
       "375778         2016-12-13 11:19:52   59.64             AUT   \n",
       "375901         2016-12-13 11:33:39   28.76             AUT   \n",
       "\n",
       "               IdentifiantContrat NuméroContrat  \n",
       "TransactionID                                    \n",
       "375501                      354.0       SLA-353  \n",
       "375636                      327.0       MTN-303  \n",
       "375657                      327.0       MTN-303  \n",
       "375778                      354.0       SLA-353  \n",
       "375901                      327.0       MTN-303  "
      ]
     },
     "execution_count": 4,
     "metadata": {},
     "output_type": "execute_result"
    }
   ],
   "source": [
    "transaction_2016.head()"
   ]
  },
  {
   "cell_type": "code",
   "execution_count": 5,
   "metadata": {},
   "outputs": [],
   "source": [
    "transaction_2016[\"NomSecteur\"] = transaction_2016[\"NomSecteur\"].fillna(\"NaN\")\n",
    "transaction_2016[\"NuméroContrat\"] = transaction_2016[\"NuméroContrat\"].fillna(\"NaN\")\n",
    "transaction_2016[\"IdentifiantContrat\"] = transaction_2016[\"IdentifiantContrat\"].fillna(np.nan)\n",
    "transaction_2016[\"DateChargement\"] = pd.to_datetime(transaction_2016[\"DateChargement\"])\n",
    "transaction_2016[\"DateDéchargement\"] = pd.to_datetime(transaction_2016[\"DateDéchargement\"])\n",
    "transaction_2016.sort_values(by=\"DateChargement\", inplace=True)\n"
   ]
  },
  {
   "attachments": {},
   "cell_type": "markdown",
   "metadata": {},
   "source": [
    "## Transactions 2018"
   ]
  },
  {
   "cell_type": "code",
   "execution_count": 6,
   "metadata": {},
   "outputs": [],
   "source": [
    "transaction_2018[\"NomSecteur\"] = transaction_2018[\"NomSecteur\"].fillna(\"NaN\")\n",
    "transaction_2018[\"NumeroContrat\"] = transaction_2018[\"NumeroContrat\"].fillna(\"NaN\")\n",
    "transaction_2018[\"IdentifiantContrat\"] = transaction_2018[\"IdentifiantContrat\"].fillna(np.nan)\n",
    "transaction_2018[\"DateChargement\"] = pd.to_datetime(transaction_2018[\"DateChargement\"])\n",
    "transaction_2018[\"DateDechargement\"] = pd.to_datetime(transaction_2018[\"DateDechargement\"])\n",
    "transaction_2018.sort_values(by=\"DateChargement\", inplace=True)\n"
   ]
  },
  {
   "cell_type": "code",
   "execution_count": 7,
   "metadata": {},
   "outputs": [
    {
     "name": "stdout",
     "output_type": "stream",
     "text": [
      "<class 'pandas.core.frame.DataFrame'>\n",
      "Int64Index: 349543 entries, 1221421 to 1540785\n",
      "Data columns (total 13 columns):\n",
      " #   Column                     Non-Null Count   Dtype         \n",
      "---  ------                     --------------   -----         \n",
      " 0   DateChargement             349543 non-null  datetime64[ns]\n",
      " 1   IdenfiantSecteur           327174 non-null  float64       \n",
      " 2   NomSecteur                 349543 non-null  object        \n",
      " 3   IdentifiantArrondissement  349543 non-null  int64         \n",
      " 4   ArrondissementCode         349543 non-null  object        \n",
      " 5   Arrondissement             349543 non-null  object        \n",
      " 6   IdentifiantDepot           349543 non-null  int64         \n",
      " 7   NomDepot                   349543 non-null  object        \n",
      " 8   DateDechargement           349543 non-null  datetime64[ns]\n",
      " 9   volume                     349543 non-null  float64       \n",
      " 10  TypeTransaction            349543 non-null  object        \n",
      " 11  IdentifiantContrat         327174 non-null  float64       \n",
      " 12  NumeroContrat              349543 non-null  object        \n",
      "dtypes: datetime64[ns](2), float64(3), int64(2), object(6)\n",
      "memory usage: 37.3+ MB\n"
     ]
    }
   ],
   "source": [
    "transaction_2018.info()"
   ]
  },
  {
   "attachments": {},
   "cell_type": "markdown",
   "metadata": {},
   "source": [
    "## Transactions 2019"
   ]
  },
  {
   "cell_type": "code",
   "execution_count": 8,
   "metadata": {},
   "outputs": [
    {
     "name": "stdout",
     "output_type": "stream",
     "text": [
      "<class 'pandas.core.frame.DataFrame'>\n",
      "Int64Index: 320395 entries, 1541214 to 1583480\n",
      "Data columns (total 13 columns):\n",
      " #   Column                     Non-Null Count   Dtype  \n",
      "---  ------                     --------------   -----  \n",
      " 0   DateChargement             320395 non-null  object \n",
      " 1   IdenfiantSecteur           297552 non-null  float64\n",
      " 2   NomSecteur                 297552 non-null  object \n",
      " 3   IdentifiantArrondissement  320395 non-null  int64  \n",
      " 4   ArrondissementCode         320395 non-null  object \n",
      " 5   Arrondissement             320395 non-null  object \n",
      " 6   IdentifiantDepot           320395 non-null  int64  \n",
      " 7   NomDepot                   320395 non-null  object \n",
      " 8   DateDechargement           320395 non-null  object \n",
      " 9   volume                     320395 non-null  float64\n",
      " 10  TypeTransaction            320395 non-null  object \n",
      " 11  IdentifiantContrat         297552 non-null  float64\n",
      " 12  NumeroContrat              297552 non-null  object \n",
      "dtypes: float64(3), int64(2), object(8)\n",
      "memory usage: 34.2+ MB\n"
     ]
    }
   ],
   "source": [
    "transaction_2019.info()"
   ]
  },
  {
   "cell_type": "code",
   "execution_count": 9,
   "metadata": {},
   "outputs": [],
   "source": [
    "transaction_2019[\"NomSecteur\"] = transaction_2019[\"NomSecteur\"].fillna(\"NaN\")\n",
    "transaction_2019[\"NumeroContrat\"] = transaction_2019[\"NumeroContrat\"].fillna(\"NaN\")\n",
    "transaction_2019[\"IdentifiantContrat\"] = transaction_2019[\"IdentifiantContrat\"].fillna(np.nan)\n",
    "transaction_2019[\"DateChargement\"] = pd.to_datetime(transaction_2019[\"DateChargement\"])\n",
    "transaction_2019[\"DateDechargement\"] = pd.to_datetime(transaction_2019[\"DateDechargement\"])\n",
    "transaction_2019.sort_values(by=\"DateChargement\", inplace=True)\n"
   ]
  },
  {
   "attachments": {},
   "cell_type": "markdown",
   "metadata": {},
   "source": [
    "## Transaction 2020"
   ]
  },
  {
   "cell_type": "code",
   "execution_count": 10,
   "metadata": {},
   "outputs": [
    {
     "name": "stdout",
     "output_type": "stream",
     "text": [
      "<class 'pandas.core.frame.DataFrame'>\n",
      "Int64Index: 251395 entries, 1890152 to 2121301\n",
      "Data columns (total 13 columns):\n",
      " #   Column                     Non-Null Count   Dtype  \n",
      "---  ------                     --------------   -----  \n",
      " 0   DateChargement             251395 non-null  object \n",
      " 1   IdenfiantSecteur           234507 non-null  float64\n",
      " 2   NomSecteur                 234507 non-null  object \n",
      " 3   IdentifiantArrondissement  251395 non-null  int64  \n",
      " 4   ArrondissementCode         251395 non-null  object \n",
      " 5   Arrondissement             251395 non-null  object \n",
      " 6   IdentifiantDepot           251395 non-null  int64  \n",
      " 7   NomDepot                   251395 non-null  object \n",
      " 8   DateDechargement           251395 non-null  object \n",
      " 9   volume                     251395 non-null  float64\n",
      " 10  TypeTransaction            251395 non-null  object \n",
      " 11  IdentifiantContrat         234507 non-null  float64\n",
      " 12  NumeroContrat              234507 non-null  object \n",
      "dtypes: float64(3), int64(2), object(8)\n",
      "memory usage: 26.9+ MB\n"
     ]
    }
   ],
   "source": [
    "transaction_2020.info()"
   ]
  },
  {
   "cell_type": "code",
   "execution_count": 11,
   "metadata": {},
   "outputs": [],
   "source": [
    "transaction_2020[\"NomSecteur\"] = transaction_2020[\"NomSecteur\"].fillna(\"NaN\")\n",
    "transaction_2020[\"NumeroContrat\"] = transaction_2020[\"NumeroContrat\"].fillna(\"NaN\")\n",
    "transaction_2020[\"IdentifiantContrat\"] = transaction_2020[\"IdentifiantContrat\"].fillna(np.nan)\n",
    "transaction_2020[\"DateChargement\"] = pd.to_datetime(transaction_2020[\"DateChargement\"])\n",
    "transaction_2020[\"DateDechargement\"] = pd.to_datetime(transaction_2020[\"DateDechargement\"])\n",
    "transaction_2020.sort_values(by=\"DateChargement\", inplace=True)\n"
   ]
  },
  {
   "attachments": {},
   "cell_type": "markdown",
   "metadata": {},
   "source": [
    "## Transactions 2021"
   ]
  },
  {
   "cell_type": "code",
   "execution_count": 12,
   "metadata": {},
   "outputs": [
    {
     "name": "stdout",
     "output_type": "stream",
     "text": [
      "<class 'pandas.core.frame.DataFrame'>\n",
      "Int64Index: 260680 entries, 2150929 to 2204491\n",
      "Data columns (total 13 columns):\n",
      " #   Column                     Non-Null Count   Dtype  \n",
      "---  ------                     --------------   -----  \n",
      " 0   DateChargement             260680 non-null  object \n",
      " 1   IdenfiantSecteur           242089 non-null  float64\n",
      " 2   NomSecteur                 242089 non-null  object \n",
      " 3   IdentifiantArrondissement  260680 non-null  int64  \n",
      " 4   ArrondissementCode         260680 non-null  object \n",
      " 5   Arrondissement             260680 non-null  object \n",
      " 6   IdentifiantDepot           260680 non-null  int64  \n",
      " 7   NomDepot                   260680 non-null  object \n",
      " 8   DateDechargement           260680 non-null  object \n",
      " 9   volume                     260680 non-null  float64\n",
      " 10  TypeTransaction            260680 non-null  object \n",
      " 11  IdentifiantContrat         242089 non-null  float64\n",
      " 12  NumeroContrat              242089 non-null  object \n",
      "dtypes: float64(3), int64(2), object(8)\n",
      "memory usage: 27.8+ MB\n"
     ]
    }
   ],
   "source": [
    "transaction_2021.info()"
   ]
  },
  {
   "cell_type": "code",
   "execution_count": 13,
   "metadata": {},
   "outputs": [],
   "source": [
    "transaction_2021[\"NomSecteur\"] = transaction_2021[\"NomSecteur\"].fillna(\"NaN\")\n",
    "transaction_2021[\"NumeroContrat\"] = transaction_2021[\"NumeroContrat\"].fillna(\"NaN\")\n",
    "transaction_2021[\"IdentifiantContrat\"] = transaction_2021[\"IdentifiantContrat\"].fillna(np.nan)\n",
    "transaction_2021[\"DateChargement\"] = pd.to_datetime(transaction_2021[\"DateChargement\"])\n",
    "transaction_2021[\"DateDechargement\"] = pd.to_datetime(transaction_2021[\"DateDechargement\"])\n",
    "transaction_2021.sort_values(by=\"DateChargement\", inplace=True)\n"
   ]
  },
  {
   "attachments": {},
   "cell_type": "markdown",
   "metadata": {},
   "source": [
    "## Transactions 2022"
   ]
  },
  {
   "cell_type": "code",
   "execution_count": 14,
   "metadata": {},
   "outputs": [
    {
     "name": "stdout",
     "output_type": "stream",
     "text": [
      "<class 'pandas.core.frame.DataFrame'>\n",
      "Int64Index: 286468 entries, 2424823 to 2693557\n",
      "Data columns (total 13 columns):\n",
      " #   Column                     Non-Null Count   Dtype  \n",
      "---  ------                     --------------   -----  \n",
      " 0   DateChargement             286468 non-null  object \n",
      " 1   IdenfiantSecteur           264257 non-null  float64\n",
      " 2   NomSecteur                 264257 non-null  object \n",
      " 3   IdentifiantArrondissement  286468 non-null  int64  \n",
      " 4   ArrondissementCode         286468 non-null  object \n",
      " 5   Arrondissement             286468 non-null  object \n",
      " 6   IdentifiantDepot           286468 non-null  int64  \n",
      " 7   NomDepot                   286468 non-null  object \n",
      " 8   DateDechargement           286468 non-null  object \n",
      " 9   volume                     286468 non-null  float64\n",
      " 10  TypeTransaction            286468 non-null  object \n",
      " 11  IdentifiantContrat         264257 non-null  float64\n",
      " 12  NumeroContrat              264257 non-null  object \n",
      "dtypes: float64(3), int64(2), object(8)\n",
      "memory usage: 30.6+ MB\n"
     ]
    }
   ],
   "source": [
    "transaction_2022.info()"
   ]
  },
  {
   "cell_type": "code",
   "execution_count": 15,
   "metadata": {},
   "outputs": [],
   "source": [
    "transaction_2022[\"NomSecteur\"] = transaction_2022[\"NomSecteur\"].fillna(\"NaN\")\n",
    "transaction_2022[\"NumeroContrat\"] = transaction_2022[\"NumeroContrat\"].fillna(\"NaN\")\n",
    "transaction_2022[\"IdentifiantContrat\"] = transaction_2022[\"IdentifiantContrat\"].fillna(np.nan)\n",
    "transaction_2022[\"DateChargement\"] = pd.to_datetime(transaction_2022[\"DateChargement\"])\n",
    "transaction_2022[\"DateDechargement\"] = pd.to_datetime(transaction_2022[\"DateDechargement\"])\n",
    "transaction_2022.sort_values(by=\"DateChargement\", inplace=True)"
   ]
  },
  {
   "attachments": {},
   "cell_type": "markdown",
   "metadata": {},
   "source": [
    "# Resampling Volumes by Week"
   ]
  },
  {
   "cell_type": "code",
   "execution_count": 122,
   "metadata": {},
   "outputs": [
    {
     "name": "stderr",
     "output_type": "stream",
     "text": [
      "C:\\Users\\pcorreia\\AppData\\Local\\Temp\\ipykernel_38712\\2637723013.py:15: FutureWarning: Value based partial slicing on non-monotonic DatetimeIndexes with non-existing keys is deprecated and will raise a KeyError in a future Version.\n",
      "  data = data.loc[f\"{year}-11-01\":f\"{year + 1}-04-30\"]\n",
      "C:\\Users\\pcorreia\\AppData\\Local\\Temp\\ipykernel_38712\\2637723013.py:15: FutureWarning: Value based partial slicing on non-monotonic DatetimeIndexes with non-existing keys is deprecated and will raise a KeyError in a future Version.\n",
      "  data = data.loc[f\"{year}-11-01\":f\"{year + 1}-04-30\"]\n",
      "C:\\Users\\pcorreia\\AppData\\Local\\Temp\\ipykernel_38712\\2637723013.py:15: FutureWarning: Value based partial slicing on non-monotonic DatetimeIndexes with non-existing keys is deprecated and will raise a KeyError in a future Version.\n",
      "  data = data.loc[f\"{year}-11-01\":f\"{year + 1}-04-30\"]\n",
      "C:\\Users\\pcorreia\\AppData\\Local\\Temp\\ipykernel_38712\\2637723013.py:15: FutureWarning: Value based partial slicing on non-monotonic DatetimeIndexes with non-existing keys is deprecated and will raise a KeyError in a future Version.\n",
      "  data = data.loc[f\"{year}-11-01\":f\"{year + 1}-04-30\"]\n",
      "C:\\Users\\pcorreia\\AppData\\Local\\Temp\\ipykernel_38712\\2637723013.py:15: FutureWarning: Value based partial slicing on non-monotonic DatetimeIndexes with non-existing keys is deprecated and will raise a KeyError in a future Version.\n",
      "  data = data.loc[f\"{year}-11-01\":f\"{year + 1}-04-30\"]\n",
      "C:\\Users\\pcorreia\\AppData\\Local\\Temp\\ipykernel_38712\\2637723013.py:15: FutureWarning: Value based partial slicing on non-monotonic DatetimeIndexes with non-existing keys is deprecated and will raise a KeyError in a future Version.\n",
      "  data = data.loc[f\"{year}-11-01\":f\"{year + 1}-04-30\"]\n"
     ]
    },
    {
     "data": {
      "text/plain": [
       "DateDechargement\n",
       "11-15    1158982.03\n",
       "11-22      21818.09\n",
       "11-29      13639.66\n",
       "12-06          0.00\n",
       "12-13          0.00\n",
       "12-20          0.00\n",
       "12-27          0.00\n",
       "01-03    1408916.12\n",
       "01-10      57856.61\n",
       "01-17    1363518.69\n",
       "01-24    1697437.73\n",
       "01-31     453877.43\n",
       "02-07    1107618.24\n",
       "02-14    4136007.96\n",
       "02-21     267843.84\n",
       "02-28     454922.84\n",
       "03-06     322670.62\n",
       "03-13       8533.16\n",
       "03-20       3662.48\n",
       "dtype: float64"
      ]
     },
     "execution_count": 122,
     "metadata": {},
     "output_type": "execute_result"
    }
   ],
   "source": [
    "def weekly_resampling_sum(data, year):\n",
    "    if \"DateDechargement\" in data.columns.tolist():\n",
    "        column_idx = \"DateDechargement\"\n",
    "    else:\n",
    "        column_idx = \"DateDéchargement\"\n",
    "\n",
    "    # generate a range of dates for the given month\n",
    "    dates = pd.date_range(start=f'{year}-11-01', end=f'{year}-11-30', freq='D')\n",
    "\n",
    "    # filter out the first Sunday\n",
    "    first_sunday = next((date for date in dates if date.weekday() == 6), None)\n",
    "    diff_days = (first_sunday - pd.Timestamp(f\"{year}-11-01\")).days\n",
    "\n",
    "    data = pd.Series(data[\"volume\"].values, index=data[column_idx])\n",
    "    data = data.loc[f\"{year}-11-01\":f\"{year + 1}-04-30\"]\n",
    "    data = data.resample(\"W\").sum()\n",
    "    data.index = data.index - to_offset(f\"{diff_days}D\")\n",
    "    data.index = data.index.strftime('%m-%d')\n",
    "    return data\n",
    "transaction_2016_weekly = weekly_resampling_sum(transaction_2016, 2016)\n",
    "transaction_2018_weekly = weekly_resampling_sum(transaction_2018, 2018)\n",
    "transaction_2019_weekly = weekly_resampling_sum(transaction_2019, 2019)\n",
    "transaction_2020_weekly = weekly_resampling_sum(transaction_2020, 2020)\n",
    "transaction_2021_weekly = weekly_resampling_sum(transaction_2021, 2021)\n",
    "transaction_2022_weekly = weekly_resampling_sum(transaction_2022, 2022)\n",
    "transaction_2019_weekly"
   ]
  },
  {
   "cell_type": "code",
   "execution_count": 103,
   "metadata": {},
   "outputs": [
    {
     "data": {
      "text/plain": [
       "DateDechargement\n",
       "12-13     125599.36\n",
       "12-20    1648466.44\n",
       "12-27     996305.09\n",
       "01-03      27380.83\n",
       "01-10     697464.09\n",
       "01-17    2669938.42\n",
       "01-24    1848242.93\n",
       "01-31    3229431.56\n",
       "02-07     182530.00\n",
       "02-14      22333.97\n",
       "dtype: float64"
      ]
     },
     "execution_count": 103,
     "metadata": {},
     "output_type": "execute_result"
    }
   ],
   "source": [
    "transaction_2022_weekly"
   ]
  },
  {
   "cell_type": "code",
   "execution_count": 104,
   "metadata": {},
   "outputs": [
    {
     "data": {
      "text/plain": [
       "DateDechargement\n",
       "11-08         31.11\n",
       "11-15          0.00\n",
       "11-22          3.00\n",
       "11-29          0.00\n",
       "12-06     668558.19\n",
       "12-13       2921.00\n",
       "12-20       7788.00\n",
       "12-27          0.00\n",
       "01-03      13591.67\n",
       "01-10      17738.74\n",
       "01-17    3192991.16\n",
       "01-24     166089.54\n",
       "01-31     398127.16\n",
       "02-07     907267.18\n",
       "02-14     557572.68\n",
       "02-21    2791199.02\n",
       "02-28    1600839.04\n",
       "03-07      57435.15\n",
       "03-14      33856.63\n",
       "03-21      12964.50\n",
       "03-28         76.40\n",
       "04-04          0.00\n",
       "04-11          0.00\n",
       "dtype: float64"
      ]
     },
     "execution_count": 104,
     "metadata": {},
     "output_type": "execute_result"
    }
   ],
   "source": [
    "transaction_2021_weekly"
   ]
  },
  {
   "attachments": {},
   "cell_type": "markdown",
   "metadata": {},
   "source": [
    "# Generating Lineplots for snow"
   ]
  },
  {
   "cell_type": "code",
   "execution_count": 124,
   "metadata": {},
   "outputs": [
    {
     "data": {
      "text/plain": [
       "11-08    3.111000e+01\n",
       "11-15    5.794910e+05\n",
       "11-22    5.764253e+03\n",
       "11-29    3.375026e+03\n",
       "12-06    1.345689e+05\n",
       "12-13    2.014393e+05\n",
       "12-20    2.804270e+05\n",
       "12-27    2.540812e+05\n",
       "01-03    7.201411e+05\n",
       "01-10    6.457411e+05\n",
       "01-17    1.261060e+06\n",
       "01-24    1.515288e+06\n",
       "01-31    1.039540e+06\n",
       "02-07    1.083394e+06\n",
       "02-14    1.908543e+06\n",
       "02-21    1.524271e+06\n",
       "02-28    5.765894e+05\n",
       "03-06    3.226706e+05\n",
       "03-07    1.318473e+05\n",
       "03-13    8.533160e+03\n",
       "03-14    1.239669e+06\n",
       "03-20    3.662480e+03\n",
       "03-21    2.559508e+05\n",
       "03-28    6.148073e+03\n",
       "04-04    1.397500e+03\n",
       "04-11    8.889250e+02\n",
       "dtype: float64"
      ]
     },
     "execution_count": 124,
     "metadata": {},
     "output_type": "execute_result"
    }
   ],
   "source": [
    "snowfall_years = [\n",
    "    transaction_2016_weekly, transaction_2018_weekly,\n",
    "    transaction_2019_weekly, transaction_2020_weekly,\n",
    "    transaction_2021_weekly, transaction_2022_weekly,\n",
    "]\n",
    "complete_average_snowfall = pd.concat(snowfall_years, axis=1, join=\"outer\").mean(axis=1)\n",
    "order = [\n",
    "    '11-08',\n",
    "    '11-15',\n",
    "    '11-22',\n",
    "    '11-29',\n",
    "    '12-06',\n",
    "    '12-13',\n",
    "    '12-20',\n",
    "    '12-27',\n",
    "    '01-03',\n",
    "    '01-10',\n",
    "    '01-17',\n",
    "    '01-24',\n",
    "    '01-31',\n",
    "    '02-07',\n",
    "    '02-14',\n",
    "    '02-21',\n",
    "    '02-28',\n",
    "    '03-06',\n",
    "    '03-07',\n",
    "    '03-13',\n",
    "    '03-14',\n",
    "    '03-20',\n",
    "    '03-21',\n",
    "    '03-28',\n",
    "    '04-04',\n",
    "    '04-11',\n",
    "]\n",
    "complete_average_snowfall = complete_average_snowfall.loc[order]\n",
    "complete_average_snowfall"
   ]
  },
  {
   "cell_type": "code",
   "execution_count": 125,
   "metadata": {},
   "outputs": [
    {
     "data": {
      "text/plain": [
       "<AxesSubplot:xlabel='DateDechargement'>"
      ]
     },
     "execution_count": 125,
     "metadata": {},
     "output_type": "execute_result"
    },
    {
     "data": {
      "image/png": "[encoded data removed]",
      "text/plain": [
       "<Figure size 864x432 with 1 Axes>"
      ]
     },
     "metadata": {},
     "output_type": "display_data"
    }
   ],
   "source": [
    "plt.figure(figsize=(12, 6))\n",
    "# sns.lineplot(x=transaction_2016_weekly.index, y=transaction_2016_weekly.values, label=\"2016\")\n",
    "# sns.lineplot(x=transaction_2018_weekly.index, y=transaction_2018_weekly.values, label=\"2018\")\n",
    "# sns.lineplot(x=transaction_2019_weekly.index, y=transaction_2019_weekly.values, label=\"2019\")\n",
    "# sns.lineplot(x=transaction_2020_weekly.index, y=transaction_2020_weekly.values, label=\"2020\")\n",
    "sns.lineplot(x=transaction_2021_weekly.index, y=transaction_2021_weekly.values, label=\"2021\")\n",
    "sns.lineplot(x=transaction_2022_weekly.index, y=transaction_2022_weekly.values, label=\"2022\")"
   ]
  },
  {
   "cell_type": "code",
   "execution_count": 128,
   "metadata": {},
   "outputs": [
    {
     "data": {
      "image/png": "[encoded data removed]",
      "text/plain": [
       "<Figure size 1152x432 with 1 Axes>"
      ]
     },
     "metadata": {},
     "output_type": "display_data"
    }
   ],
   "source": [
    "plt.figure(figsize=(16, 6))\n",
    "sns.lineplot(x=complete_average_snowfall.index, y=complete_average_snowfall.values)\n",
    "plt.title(\"Average snowfall removal per week from 2016 to 2022\")\n",
    "plt.xlabel(\"Days (mm-dd)\")\n",
    "plt.ylabel(\"Average Volume in m3 logarithm scale\")\n",
    "plt.xticks(rotation=20)\n",
    "plt.yscale(\"log\")\n",
    "plt.show()"
   ]
  }
 ],
 "metadata": {
  "kernelspec": {
   "display_name": "base",
   "language": "python",
   "name": "python3"
  },
  "language_info": {
   "codemirror_mode": {
    "name": "ipython",
    "version": 3
   },
   "file_extension": ".py",
   "mimetype": "text/x-python",
   "name": "python",
   "nbconvert_exporter": "python",
   "pygments_lexer": "ipython3",
   "version": "3.9.12"
  },
  "orig_nbformat": 4
 },
 "nbformat": 4,
 "nbformat_minor": 2
}
