{
 "cells": [
  {
   "cell_type": "markdown",
   "metadata": {},
   "source": [
    "# Introduction\n",
    "\n",
    "Notebook for a first analysis of the data available. I will focus on just the years 2016 and 2017 for simplicity. Other notebooks will be created to analyse other years."
   ]
  },
  {
   "cell_type": "code",
   "execution_count": 1,
   "metadata": {},
   "outputs": [],
   "source": [
    "import pandas as pd\n",
    "import numpy as np\n",
    "import matplotlib.pyplot as plt\n",
    "plt.style.use('ggplot')\n",
    "# print(plt.style.available)\n",
    "# import seaborn as sns\n",
    "# sns.set(style=\"darkgrid\")"
   ]
  },
  {
   "cell_type": "markdown",
   "metadata": {},
   "source": [
    "# Importing Datasets"
   ]
  },
  {
   "cell_type": "code",
   "execution_count": 2,
   "metadata": {},
   "outputs": [
    {
     "name": "stderr",
     "output_type": "stream",
     "text": [
      "C:\\Users\\pcorreia\\AppData\\Roaming\\Python\\Python38\\site-packages\\IPython\\core\\interactiveshell.py:3071: DtypeWarning: Columns (3,13) have mixed types.Specify dtype option on import or set low_memory=False.\n",
      "  has_raised = await self.run_ast_nodes(code_ast.body, cell_name,\n"
     ]
    }
   ],
   "source": [
    "contrat = pd.read_csv(\"../data/contrat/contrats_deneigement_saison_2016-2017.csv\")\n",
    "depot = pd.read_csv(\"../data/depot/depots_deneigement_saison_2016-2017.csv\")\n",
    "secteur = pd.read_csv(\"../data/secteur/secteurs_deneigement_saison_2016-2017.csv\")\n",
    "transaction = pd.read_csv(\"../data/transaction/transactions_deneigement_saison_2016-2017.csv\")\n"
   ]
  },
  {
   "cell_type": "markdown",
   "metadata": {},
   "source": [
    "## Contrat Overview"
   ]
  },
  {
   "cell_type": "code",
   "execution_count": 3,
   "metadata": {},
   "outputs": [
    {
     "name": "stdout",
     "output_type": "stream",
     "text": [
      "<class 'pandas.core.frame.DataFrame'>\n",
      "RangeIndex: 125 entries, 0 to 124\n",
      "Data columns (total 9 columns):\n",
      " #   Column                     Non-Null Count  Dtype \n",
      "---  ------                     --------------  ----- \n",
      " 0   IdentifiantContrat         125 non-null    int64 \n",
      " 1   NuméroContrat              125 non-null    object\n",
      " 2   TypeContrat                124 non-null    object\n",
      " 3   AnneeContrat               125 non-null    object\n",
      " 4   IdentifiantArrondissement  125 non-null    int64 \n",
      " 5   ArrondissementCode         125 non-null    object\n",
      " 6   Arrondissement             125 non-null    object\n",
      " 7   DescriptionType            124 non-null    object\n",
      " 8   Entreprise                 125 non-null    object\n",
      "dtypes: int64(2), object(7)\n",
      "memory usage: 5.4+ KB\n"
     ]
    }
   ],
   "source": [
    "contrat.info()"
   ]
  },
  {
   "cell_type": "code",
   "execution_count": 4,
   "metadata": {},
   "outputs": [
    {
     "data": {
      "text/html": [
       "<div>\n",
       "<style scoped>\n",
       "    .dataframe tbody tr th:only-of-type {\n",
       "        vertical-align: middle;\n",
       "    }\n",
       "\n",
       "    .dataframe tbody tr th {\n",
       "        vertical-align: top;\n",
       "    }\n",
       "\n",
       "    .dataframe thead th {\n",
       "        text-align: right;\n",
       "    }\n",
       "</style>\n",
       "<table border=\"1\" class=\"dataframe\">\n",
       "  <thead>\n",
       "    <tr style=\"text-align: right;\">\n",
       "      <th></th>\n",
       "      <th>IdentifiantContrat</th>\n",
       "      <th>NuméroContrat</th>\n",
       "      <th>TypeContrat</th>\n",
       "      <th>AnneeContrat</th>\n",
       "      <th>IdentifiantArrondissement</th>\n",
       "      <th>ArrondissementCode</th>\n",
       "      <th>Arrondissement</th>\n",
       "      <th>DescriptionType</th>\n",
       "      <th>Entreprise</th>\n",
       "    </tr>\n",
       "  </thead>\n",
       "  <tbody>\n",
       "    <tr>\n",
       "      <th>0</th>\n",
       "      <td>223</td>\n",
       "      <td>AHU-14</td>\n",
       "      <td>Transport</td>\n",
       "      <td>2014-2019</td>\n",
       "      <td>22</td>\n",
       "      <td>AHU</td>\n",
       "      <td>Ahuntsic / Cartierville</td>\n",
       "      <td>Contrat attribué à entrepreneurs pour le trans...</td>\n",
       "      <td>Gestion Yvan Pion inc.</td>\n",
       "    </tr>\n",
       "    <tr>\n",
       "      <th>1</th>\n",
       "      <td>224</td>\n",
       "      <td>AHU-15</td>\n",
       "      <td>Déneigement</td>\n",
       "      <td>2015-2017</td>\n",
       "      <td>22</td>\n",
       "      <td>AHU</td>\n",
       "      <td>Ahuntsic / Cartierville</td>\n",
       "      <td>Contrat exécuté dans sa totalilité (Épandage, ...</td>\n",
       "      <td>Transport Rosemont inc.</td>\n",
       "    </tr>\n",
       "    <tr>\n",
       "      <th>2</th>\n",
       "      <td>225</td>\n",
       "      <td>AHU-16</td>\n",
       "      <td>Transport</td>\n",
       "      <td>2014-2019</td>\n",
       "      <td>22</td>\n",
       "      <td>AHU</td>\n",
       "      <td>Ahuntsic / Cartierville</td>\n",
       "      <td>Contrat attribué à entrepreneurs pour le trans...</td>\n",
       "      <td>Gestion Yvan Pion inc.</td>\n",
       "    </tr>\n",
       "    <tr>\n",
       "      <th>3</th>\n",
       "      <td>226</td>\n",
       "      <td>AHU-17</td>\n",
       "      <td>Déneigement</td>\n",
       "      <td>2015-2017</td>\n",
       "      <td>22</td>\n",
       "      <td>AHU</td>\n",
       "      <td>Ahuntsic / Cartierville</td>\n",
       "      <td>Contrat exécuté dans sa totalilité (Épandage, ...</td>\n",
       "      <td>Transport Rosemont inc.</td>\n",
       "    </tr>\n",
       "    <tr>\n",
       "      <th>4</th>\n",
       "      <td>227</td>\n",
       "      <td>AHU-18</td>\n",
       "      <td>Déneigement</td>\n",
       "      <td>2012-2017</td>\n",
       "      <td>22</td>\n",
       "      <td>AHU</td>\n",
       "      <td>Ahuntsic / Cartierville</td>\n",
       "      <td>Contrat exécuté dans sa totalilité (Épandage, ...</td>\n",
       "      <td>Tr. Gilbert Hamelin inc.</td>\n",
       "    </tr>\n",
       "  </tbody>\n",
       "</table>\n",
       "</div>"
      ],
      "text/plain": [
       "   IdentifiantContrat NuméroContrat  TypeContrat AnneeContrat  \\\n",
       "0                 223        AHU-14    Transport    2014-2019   \n",
       "1                 224        AHU-15  Déneigement    2015-2017   \n",
       "2                 225        AHU-16    Transport    2014-2019   \n",
       "3                 226        AHU-17  Déneigement    2015-2017   \n",
       "4                 227        AHU-18  Déneigement    2012-2017   \n",
       "\n",
       "   IdentifiantArrondissement ArrondissementCode           Arrondissement  \\\n",
       "0                         22                AHU  Ahuntsic / Cartierville   \n",
       "1                         22                AHU  Ahuntsic / Cartierville   \n",
       "2                         22                AHU  Ahuntsic / Cartierville   \n",
       "3                         22                AHU  Ahuntsic / Cartierville   \n",
       "4                         22                AHU  Ahuntsic / Cartierville   \n",
       "\n",
       "                                     DescriptionType                Entreprise  \n",
       "0  Contrat attribué à entrepreneurs pour le trans...    Gestion Yvan Pion inc.  \n",
       "1  Contrat exécuté dans sa totalilité (Épandage, ...   Transport Rosemont inc.  \n",
       "2  Contrat attribué à entrepreneurs pour le trans...    Gestion Yvan Pion inc.  \n",
       "3  Contrat exécuté dans sa totalilité (Épandage, ...   Transport Rosemont inc.  \n",
       "4  Contrat exécuté dans sa totalilité (Épandage, ...  Tr. Gilbert Hamelin inc.  "
      ]
     },
     "execution_count": 4,
     "metadata": {},
     "output_type": "execute_result"
    }
   ],
   "source": [
    "contrat.head()"
   ]
  },
  {
   "cell_type": "markdown",
   "metadata": {},
   "source": [
    "## Depot Overview"
   ]
  },
  {
   "cell_type": "code",
   "execution_count": 5,
   "metadata": {},
   "outputs": [
    {
     "name": "stdout",
     "output_type": "stream",
     "text": [
      "<class 'pandas.core.frame.DataFrame'>\n",
      "RangeIndex: 28 entries, 0 to 27\n",
      "Data columns (total 8 columns):\n",
      " #   Column                     Non-Null Count  Dtype  \n",
      "---  ------                     --------------  -----  \n",
      " 0   IdentifiantDepot           28 non-null     int64  \n",
      " 1   NomDepot                   28 non-null     object \n",
      " 2   TypeDepot                  28 non-null     object \n",
      " 3   Capacite                   28 non-null     int64  \n",
      " 4   VolumeDeverse              28 non-null     float64\n",
      " 5   IdentifiantArrondissement  28 non-null     int64  \n",
      " 6   ArrondissementCode         28 non-null     object \n",
      " 7   Arrondissement             28 non-null     object \n",
      "dtypes: float64(1), int64(3), object(4)\n",
      "memory usage: 1.4+ KB\n"
     ]
    }
   ],
   "source": [
    "depot.info()"
   ]
  },
  {
   "cell_type": "code",
   "execution_count": 6,
   "metadata": {},
   "outputs": [
    {
     "data": {
      "text/html": [
       "<div>\n",
       "<style scoped>\n",
       "    .dataframe tbody tr th:only-of-type {\n",
       "        vertical-align: middle;\n",
       "    }\n",
       "\n",
       "    .dataframe tbody tr th {\n",
       "        vertical-align: top;\n",
       "    }\n",
       "\n",
       "    .dataframe thead th {\n",
       "        text-align: right;\n",
       "    }\n",
       "</style>\n",
       "<table border=\"1\" class=\"dataframe\">\n",
       "  <thead>\n",
       "    <tr style=\"text-align: right;\">\n",
       "      <th></th>\n",
       "      <th>IdentifiantDepot</th>\n",
       "      <th>NomDepot</th>\n",
       "      <th>TypeDepot</th>\n",
       "      <th>Capacite</th>\n",
       "      <th>VolumeDeverse</th>\n",
       "      <th>IdentifiantArrondissement</th>\n",
       "      <th>ArrondissementCode</th>\n",
       "      <th>Arrondissement</th>\n",
       "    </tr>\n",
       "  </thead>\n",
       "  <tbody>\n",
       "    <tr>\n",
       "      <th>0</th>\n",
       "      <td>27</td>\n",
       "      <td>Millen (AHU)</td>\n",
       "      <td>Chute_Egout</td>\n",
       "      <td>0</td>\n",
       "      <td>218149.50</td>\n",
       "      <td>22</td>\n",
       "      <td>AHU</td>\n",
       "      <td>Ahuntsic / Cartierville</td>\n",
       "    </tr>\n",
       "    <tr>\n",
       "      <th>1</th>\n",
       "      <td>28</td>\n",
       "      <td>Sauvé (AHU)</td>\n",
       "      <td>Chute_Egout</td>\n",
       "      <td>0</td>\n",
       "      <td>152553.99</td>\n",
       "      <td>22</td>\n",
       "      <td>AHU</td>\n",
       "      <td>Ahuntsic / Cartierville</td>\n",
       "    </tr>\n",
       "    <tr>\n",
       "      <th>2</th>\n",
       "      <td>30</td>\n",
       "      <td>Jules-Poitras 1 (AHU)</td>\n",
       "      <td>Chute_Egout</td>\n",
       "      <td>0</td>\n",
       "      <td>409158.27</td>\n",
       "      <td>22</td>\n",
       "      <td>AHU</td>\n",
       "      <td>Ahuntsic / Cartierville</td>\n",
       "    </tr>\n",
       "    <tr>\n",
       "      <th>3</th>\n",
       "      <td>31</td>\n",
       "      <td>St-Michel - Robert (VSP)</td>\n",
       "      <td>Carierre</td>\n",
       "      <td>2385000</td>\n",
       "      <td>2697500.58</td>\n",
       "      <td>24</td>\n",
       "      <td>VSP</td>\n",
       "      <td>Villeray / St-Michel / Parc-Extension</td>\n",
       "    </tr>\n",
       "    <tr>\n",
       "      <th>4</th>\n",
       "      <td>34</td>\n",
       "      <td>Lafarge (sud) (MHM)</td>\n",
       "      <td>Entassement</td>\n",
       "      <td>1100000</td>\n",
       "      <td>895641.07</td>\n",
       "      <td>21</td>\n",
       "      <td>MHM</td>\n",
       "      <td>Mercier / Hochelaga / Maisonneuve</td>\n",
       "    </tr>\n",
       "  </tbody>\n",
       "</table>\n",
       "</div>"
      ],
      "text/plain": [
       "   IdentifiantDepot                  NomDepot    TypeDepot  Capacite  \\\n",
       "0                27              Millen (AHU)  Chute_Egout         0   \n",
       "1                28               Sauvé (AHU)  Chute_Egout         0   \n",
       "2                30     Jules-Poitras 1 (AHU)  Chute_Egout         0   \n",
       "3                31  St-Michel - Robert (VSP)     Carierre   2385000   \n",
       "4                34       Lafarge (sud) (MHM)  Entassement   1100000   \n",
       "\n",
       "   VolumeDeverse  IdentifiantArrondissement ArrondissementCode  \\\n",
       "0      218149.50                         22                AHU   \n",
       "1      152553.99                         22                AHU   \n",
       "2      409158.27                         22                AHU   \n",
       "3     2697500.58                         24                VSP   \n",
       "4      895641.07                         21                MHM   \n",
       "\n",
       "                          Arrondissement  \n",
       "0                Ahuntsic / Cartierville  \n",
       "1                Ahuntsic / Cartierville  \n",
       "2                Ahuntsic / Cartierville  \n",
       "3  Villeray / St-Michel / Parc-Extension  \n",
       "4      Mercier / Hochelaga / Maisonneuve  "
      ]
     },
     "execution_count": 6,
     "metadata": {},
     "output_type": "execute_result"
    }
   ],
   "source": [
    "depot.head(5)"
   ]
  },
  {
   "cell_type": "markdown",
   "metadata": {},
   "source": [
    "## Secteur Overview"
   ]
  },
  {
   "cell_type": "code",
   "execution_count": 7,
   "metadata": {},
   "outputs": [
    {
     "name": "stdout",
     "output_type": "stream",
     "text": [
      "<class 'pandas.core.frame.DataFrame'>\n",
      "RangeIndex: 140 entries, 0 to 139\n",
      "Data columns (total 5 columns):\n",
      " #   Column                     Non-Null Count  Dtype \n",
      "---  ------                     --------------  ----- \n",
      " 0   IdenfiantSecteur           140 non-null    int64 \n",
      " 1   NomSecteur                 140 non-null    object\n",
      " 2   IdentifiantArrondissement  140 non-null    int64 \n",
      " 3   ArrondissementCode         140 non-null    object\n",
      " 4   Arrondissement             140 non-null    object\n",
      "dtypes: int64(2), object(3)\n",
      "memory usage: 3.9+ KB\n"
     ]
    }
   ],
   "source": [
    "secteur.info()"
   ]
  },
  {
   "cell_type": "code",
   "execution_count": 8,
   "metadata": {},
   "outputs": [
    {
     "data": {
      "text/html": [
       "<div>\n",
       "<style scoped>\n",
       "    .dataframe tbody tr th:only-of-type {\n",
       "        vertical-align: middle;\n",
       "    }\n",
       "\n",
       "    .dataframe tbody tr th {\n",
       "        vertical-align: top;\n",
       "    }\n",
       "\n",
       "    .dataframe thead th {\n",
       "        text-align: right;\n",
       "    }\n",
       "</style>\n",
       "<table border=\"1\" class=\"dataframe\">\n",
       "  <thead>\n",
       "    <tr style=\"text-align: right;\">\n",
       "      <th></th>\n",
       "      <th>IdenfiantSecteur</th>\n",
       "      <th>NomSecteur</th>\n",
       "      <th>IdentifiantArrondissement</th>\n",
       "      <th>ArrondissementCode</th>\n",
       "      <th>Arrondissement</th>\n",
       "    </tr>\n",
       "  </thead>\n",
       "  <tbody>\n",
       "    <tr>\n",
       "      <th>0</th>\n",
       "      <td>93</td>\n",
       "      <td>MTN-01</td>\n",
       "      <td>14</td>\n",
       "      <td>MTN</td>\n",
       "      <td>Montréal-Nord</td>\n",
       "    </tr>\n",
       "    <tr>\n",
       "      <th>1</th>\n",
       "      <td>55</td>\n",
       "      <td>CDN-72</td>\n",
       "      <td>25</td>\n",
       "      <td>CDN</td>\n",
       "      <td>Côte-des-Neiges / Notre-Dame-de-Grâce</td>\n",
       "    </tr>\n",
       "    <tr>\n",
       "      <th>2</th>\n",
       "      <td>98</td>\n",
       "      <td>PRF-01</td>\n",
       "      <td>11</td>\n",
       "      <td>PRF</td>\n",
       "      <td>Pierrefonds / Roxboro</td>\n",
       "    </tr>\n",
       "    <tr>\n",
       "      <th>3</th>\n",
       "      <td>36</td>\n",
       "      <td>AHU-14</td>\n",
       "      <td>22</td>\n",
       "      <td>AHU</td>\n",
       "      <td>Ahuntsic / Cartierville</td>\n",
       "    </tr>\n",
       "    <tr>\n",
       "      <th>4</th>\n",
       "      <td>31</td>\n",
       "      <td>AHU-15</td>\n",
       "      <td>22</td>\n",
       "      <td>AHU</td>\n",
       "      <td>Ahuntsic / Cartierville</td>\n",
       "    </tr>\n",
       "  </tbody>\n",
       "</table>\n",
       "</div>"
      ],
      "text/plain": [
       "   IdenfiantSecteur NomSecteur  IdentifiantArrondissement ArrondissementCode  \\\n",
       "0                93     MTN-01                         14                MTN   \n",
       "1                55     CDN-72                         25                CDN   \n",
       "2                98     PRF-01                         11                PRF   \n",
       "3                36     AHU-14                         22                AHU   \n",
       "4                31     AHU-15                         22                AHU   \n",
       "\n",
       "                          Arrondissement  \n",
       "0                          Montréal-Nord  \n",
       "1  Côte-des-Neiges / Notre-Dame-de-Grâce  \n",
       "2                  Pierrefonds / Roxboro  \n",
       "3                Ahuntsic / Cartierville  \n",
       "4                Ahuntsic / Cartierville  "
      ]
     },
     "execution_count": 8,
     "metadata": {},
     "output_type": "execute_result"
    }
   ],
   "source": [
    "secteur.head()"
   ]
  },
  {
   "cell_type": "markdown",
   "metadata": {},
   "source": [
    "## Transaction Overview"
   ]
  },
  {
   "cell_type": "code",
   "execution_count": 9,
   "metadata": {},
   "outputs": [
    {
     "name": "stdout",
     "output_type": "stream",
     "text": [
      "<class 'pandas.core.frame.DataFrame'>\n",
      "RangeIndex: 338809 entries, 0 to 338808\n",
      "Data columns (total 14 columns):\n",
      " #   Column                     Non-Null Count   Dtype  \n",
      "---  ------                     --------------   -----  \n",
      " 0   TransactionID              338809 non-null  int64  \n",
      " 1   DateChargement             338809 non-null  object \n",
      " 2   Idenfiantsecteur           319642 non-null  float64\n",
      " 3   NomSecteur                 319642 non-null  object \n",
      " 4   IdentifiantArrondissement  338809 non-null  int64  \n",
      " 5   ArrondissementCode         338809 non-null  object \n",
      " 6   Arrondissement             338809 non-null  object \n",
      " 7   IdentifiantDepot           338809 non-null  int64  \n",
      " 8   NomDepot                   338809 non-null  object \n",
      " 9   DateDéchargement           338809 non-null  object \n",
      " 10  volume                     338809 non-null  float64\n",
      " 11  TypeTransaction            338809 non-null  object \n",
      " 12  IdentifiantContrat         319642 non-null  float64\n",
      " 13  NuméroContrat              319642 non-null  object \n",
      "dtypes: float64(3), int64(3), object(8)\n",
      "memory usage: 25.8+ MB\n"
     ]
    }
   ],
   "source": [
    "transaction.info()"
   ]
  },
  {
   "cell_type": "code",
   "execution_count": 10,
   "metadata": {},
   "outputs": [
    {
     "data": {
      "text/html": [
       "<div>\n",
       "<style scoped>\n",
       "    .dataframe tbody tr th:only-of-type {\n",
       "        vertical-align: middle;\n",
       "    }\n",
       "\n",
       "    .dataframe tbody tr th {\n",
       "        vertical-align: top;\n",
       "    }\n",
       "\n",
       "    .dataframe thead th {\n",
       "        text-align: right;\n",
       "    }\n",
       "</style>\n",
       "<table border=\"1\" class=\"dataframe\">\n",
       "  <thead>\n",
       "    <tr style=\"text-align: right;\">\n",
       "      <th></th>\n",
       "      <th>TransactionID</th>\n",
       "      <th>DateChargement</th>\n",
       "      <th>Idenfiantsecteur</th>\n",
       "      <th>NomSecteur</th>\n",
       "      <th>IdentifiantArrondissement</th>\n",
       "      <th>ArrondissementCode</th>\n",
       "      <th>Arrondissement</th>\n",
       "      <th>IdentifiantDepot</th>\n",
       "      <th>NomDepot</th>\n",
       "      <th>DateDéchargement</th>\n",
       "      <th>volume</th>\n",
       "      <th>TypeTransaction</th>\n",
       "      <th>IdentifiantContrat</th>\n",
       "      <th>NuméroContrat</th>\n",
       "    </tr>\n",
       "  </thead>\n",
       "  <tbody>\n",
       "    <tr>\n",
       "      <th>0</th>\n",
       "      <td>375501</td>\n",
       "      <td>2016-12-13 10:45:02</td>\n",
       "      <td>104.0</td>\n",
       "      <td>SLA-353</td>\n",
       "      <td>13</td>\n",
       "      <td>SLA</td>\n",
       "      <td>Saint-Laurent</td>\n",
       "      <td>49</td>\n",
       "      <td>Thimens (SLA)</td>\n",
       "      <td>2016-12-13 10:53:27</td>\n",
       "      <td>59.64</td>\n",
       "      <td>AUT</td>\n",
       "      <td>354.0</td>\n",
       "      <td>SLA-353</td>\n",
       "    </tr>\n",
       "    <tr>\n",
       "      <th>1</th>\n",
       "      <td>375636</td>\n",
       "      <td>2016-12-13 10:58:44</td>\n",
       "      <td>95.0</td>\n",
       "      <td>MTN-303</td>\n",
       "      <td>14</td>\n",
       "      <td>MTN</td>\n",
       "      <td>Montréal-Nord</td>\n",
       "      <td>58</td>\n",
       "      <td>St-Michel - Charland (VSP)</td>\n",
       "      <td>2016-12-13 11:06:26</td>\n",
       "      <td>28.76</td>\n",
       "      <td>AUT</td>\n",
       "      <td>327.0</td>\n",
       "      <td>MTN-303</td>\n",
       "    </tr>\n",
       "    <tr>\n",
       "      <th>2</th>\n",
       "      <td>375657</td>\n",
       "      <td>2016-12-13 11:01:01</td>\n",
       "      <td>95.0</td>\n",
       "      <td>MTN-303</td>\n",
       "      <td>14</td>\n",
       "      <td>MTN</td>\n",
       "      <td>Montréal-Nord</td>\n",
       "      <td>58</td>\n",
       "      <td>St-Michel - Charland (VSP)</td>\n",
       "      <td>2016-12-13 11:08:59</td>\n",
       "      <td>31.34</td>\n",
       "      <td>AUT</td>\n",
       "      <td>327.0</td>\n",
       "      <td>MTN-303</td>\n",
       "    </tr>\n",
       "    <tr>\n",
       "      <th>3</th>\n",
       "      <td>375778</td>\n",
       "      <td>2016-12-13 11:11:01</td>\n",
       "      <td>104.0</td>\n",
       "      <td>SLA-353</td>\n",
       "      <td>13</td>\n",
       "      <td>SLA</td>\n",
       "      <td>Saint-Laurent</td>\n",
       "      <td>49</td>\n",
       "      <td>Thimens (SLA)</td>\n",
       "      <td>2016-12-13 11:19:52</td>\n",
       "      <td>59.64</td>\n",
       "      <td>AUT</td>\n",
       "      <td>354.0</td>\n",
       "      <td>SLA-353</td>\n",
       "    </tr>\n",
       "    <tr>\n",
       "      <th>4</th>\n",
       "      <td>375901</td>\n",
       "      <td>2016-12-13 11:26:03</td>\n",
       "      <td>95.0</td>\n",
       "      <td>MTN-303</td>\n",
       "      <td>14</td>\n",
       "      <td>MTN</td>\n",
       "      <td>Montréal-Nord</td>\n",
       "      <td>58</td>\n",
       "      <td>St-Michel - Charland (VSP)</td>\n",
       "      <td>2016-12-13 11:33:39</td>\n",
       "      <td>28.76</td>\n",
       "      <td>AUT</td>\n",
       "      <td>327.0</td>\n",
       "      <td>MTN-303</td>\n",
       "    </tr>\n",
       "  </tbody>\n",
       "</table>\n",
       "</div>"
      ],
      "text/plain": [
       "   TransactionID       DateChargement  Idenfiantsecteur NomSecteur  \\\n",
       "0         375501  2016-12-13 10:45:02             104.0    SLA-353   \n",
       "1         375636  2016-12-13 10:58:44              95.0    MTN-303   \n",
       "2         375657  2016-12-13 11:01:01              95.0    MTN-303   \n",
       "3         375778  2016-12-13 11:11:01             104.0    SLA-353   \n",
       "4         375901  2016-12-13 11:26:03              95.0    MTN-303   \n",
       "\n",
       "   IdentifiantArrondissement ArrondissementCode Arrondissement  \\\n",
       "0                         13                SLA  Saint-Laurent   \n",
       "1                         14                MTN  Montréal-Nord   \n",
       "2                         14                MTN  Montréal-Nord   \n",
       "3                         13                SLA  Saint-Laurent   \n",
       "4                         14                MTN  Montréal-Nord   \n",
       "\n",
       "   IdentifiantDepot                    NomDepot     DateDéchargement  volume  \\\n",
       "0                49               Thimens (SLA)  2016-12-13 10:53:27   59.64   \n",
       "1                58  St-Michel - Charland (VSP)  2016-12-13 11:06:26   28.76   \n",
       "2                58  St-Michel - Charland (VSP)  2016-12-13 11:08:59   31.34   \n",
       "3                49               Thimens (SLA)  2016-12-13 11:19:52   59.64   \n",
       "4                58  St-Michel - Charland (VSP)  2016-12-13 11:33:39   28.76   \n",
       "\n",
       "  TypeTransaction  IdentifiantContrat NuméroContrat  \n",
       "0             AUT               354.0       SLA-353  \n",
       "1             AUT               327.0       MTN-303  \n",
       "2             AUT               327.0       MTN-303  \n",
       "3             AUT               354.0       SLA-353  \n",
       "4             AUT               327.0       MTN-303  "
      ]
     },
     "execution_count": 10,
     "metadata": {},
     "output_type": "execute_result"
    }
   ],
   "source": [
    "transaction.head()"
   ]
  },
  {
   "cell_type": "code",
   "execution_count": 11,
   "metadata": {},
   "outputs": [
    {
     "data": {
      "text/html": [
       "<div>\n",
       "<style scoped>\n",
       "    .dataframe tbody tr th:only-of-type {\n",
       "        vertical-align: middle;\n",
       "    }\n",
       "\n",
       "    .dataframe tbody tr th {\n",
       "        vertical-align: top;\n",
       "    }\n",
       "\n",
       "    .dataframe thead th {\n",
       "        text-align: right;\n",
       "    }\n",
       "</style>\n",
       "<table border=\"1\" class=\"dataframe\">\n",
       "  <thead>\n",
       "    <tr style=\"text-align: right;\">\n",
       "      <th></th>\n",
       "      <th>TransactionID</th>\n",
       "      <th>DateChargement</th>\n",
       "      <th>Idenfiantsecteur</th>\n",
       "      <th>NomSecteur</th>\n",
       "      <th>IdentifiantArrondissement</th>\n",
       "      <th>ArrondissementCode</th>\n",
       "      <th>Arrondissement</th>\n",
       "      <th>IdentifiantDepot</th>\n",
       "      <th>NomDepot</th>\n",
       "      <th>DateDéchargement</th>\n",
       "      <th>volume</th>\n",
       "      <th>TypeTransaction</th>\n",
       "      <th>IdentifiantContrat</th>\n",
       "      <th>NuméroContrat</th>\n",
       "    </tr>\n",
       "  </thead>\n",
       "  <tbody>\n",
       "    <tr>\n",
       "      <th>0</th>\n",
       "      <td>375501</td>\n",
       "      <td>2016-12-13 10:45:02</td>\n",
       "      <td>104.0</td>\n",
       "      <td>SLA-353</td>\n",
       "      <td>13</td>\n",
       "      <td>SLA</td>\n",
       "      <td>Saint-Laurent</td>\n",
       "      <td>49</td>\n",
       "      <td>Thimens (SLA)</td>\n",
       "      <td>2016-12-13 10:53:27</td>\n",
       "      <td>59.64</td>\n",
       "      <td>AUT</td>\n",
       "      <td>354.0</td>\n",
       "      <td>SLA-353</td>\n",
       "    </tr>\n",
       "    <tr>\n",
       "      <th>1</th>\n",
       "      <td>375636</td>\n",
       "      <td>2016-12-13 10:58:44</td>\n",
       "      <td>95.0</td>\n",
       "      <td>MTN-303</td>\n",
       "      <td>14</td>\n",
       "      <td>MTN</td>\n",
       "      <td>Montréal-Nord</td>\n",
       "      <td>58</td>\n",
       "      <td>St-Michel - Charland (VSP)</td>\n",
       "      <td>2016-12-13 11:06:26</td>\n",
       "      <td>28.76</td>\n",
       "      <td>AUT</td>\n",
       "      <td>327.0</td>\n",
       "      <td>MTN-303</td>\n",
       "    </tr>\n",
       "    <tr>\n",
       "      <th>2</th>\n",
       "      <td>375657</td>\n",
       "      <td>2016-12-13 11:01:01</td>\n",
       "      <td>95.0</td>\n",
       "      <td>MTN-303</td>\n",
       "      <td>14</td>\n",
       "      <td>MTN</td>\n",
       "      <td>Montréal-Nord</td>\n",
       "      <td>58</td>\n",
       "      <td>St-Michel - Charland (VSP)</td>\n",
       "      <td>2016-12-13 11:08:59</td>\n",
       "      <td>31.34</td>\n",
       "      <td>AUT</td>\n",
       "      <td>327.0</td>\n",
       "      <td>MTN-303</td>\n",
       "    </tr>\n",
       "    <tr>\n",
       "      <th>3</th>\n",
       "      <td>375778</td>\n",
       "      <td>2016-12-13 11:11:01</td>\n",
       "      <td>104.0</td>\n",
       "      <td>SLA-353</td>\n",
       "      <td>13</td>\n",
       "      <td>SLA</td>\n",
       "      <td>Saint-Laurent</td>\n",
       "      <td>49</td>\n",
       "      <td>Thimens (SLA)</td>\n",
       "      <td>2016-12-13 11:19:52</td>\n",
       "      <td>59.64</td>\n",
       "      <td>AUT</td>\n",
       "      <td>354.0</td>\n",
       "      <td>SLA-353</td>\n",
       "    </tr>\n",
       "    <tr>\n",
       "      <th>4</th>\n",
       "      <td>375901</td>\n",
       "      <td>2016-12-13 11:26:03</td>\n",
       "      <td>95.0</td>\n",
       "      <td>MTN-303</td>\n",
       "      <td>14</td>\n",
       "      <td>MTN</td>\n",
       "      <td>Montréal-Nord</td>\n",
       "      <td>58</td>\n",
       "      <td>St-Michel - Charland (VSP)</td>\n",
       "      <td>2016-12-13 11:33:39</td>\n",
       "      <td>28.76</td>\n",
       "      <td>AUT</td>\n",
       "      <td>327.0</td>\n",
       "      <td>MTN-303</td>\n",
       "    </tr>\n",
       "  </tbody>\n",
       "</table>\n",
       "</div>"
      ],
      "text/plain": [
       "   TransactionID      DateChargement  Idenfiantsecteur NomSecteur  \\\n",
       "0         375501 2016-12-13 10:45:02             104.0    SLA-353   \n",
       "1         375636 2016-12-13 10:58:44              95.0    MTN-303   \n",
       "2         375657 2016-12-13 11:01:01              95.0    MTN-303   \n",
       "3         375778 2016-12-13 11:11:01             104.0    SLA-353   \n",
       "4         375901 2016-12-13 11:26:03              95.0    MTN-303   \n",
       "\n",
       "   IdentifiantArrondissement ArrondissementCode Arrondissement  \\\n",
       "0                         13                SLA  Saint-Laurent   \n",
       "1                         14                MTN  Montréal-Nord   \n",
       "2                         14                MTN  Montréal-Nord   \n",
       "3                         13                SLA  Saint-Laurent   \n",
       "4                         14                MTN  Montréal-Nord   \n",
       "\n",
       "   IdentifiantDepot                    NomDepot    DateDéchargement  volume  \\\n",
       "0                49               Thimens (SLA) 2016-12-13 10:53:27   59.64   \n",
       "1                58  St-Michel - Charland (VSP) 2016-12-13 11:06:26   28.76   \n",
       "2                58  St-Michel - Charland (VSP) 2016-12-13 11:08:59   31.34   \n",
       "3                49               Thimens (SLA) 2016-12-13 11:19:52   59.64   \n",
       "4                58  St-Michel - Charland (VSP) 2016-12-13 11:33:39   28.76   \n",
       "\n",
       "  TypeTransaction  IdentifiantContrat NuméroContrat  \n",
       "0             AUT               354.0       SLA-353  \n",
       "1             AUT               327.0       MTN-303  \n",
       "2             AUT               327.0       MTN-303  \n",
       "3             AUT               354.0       SLA-353  \n",
       "4             AUT               327.0       MTN-303  "
      ]
     },
     "execution_count": 11,
     "metadata": {},
     "output_type": "execute_result"
    }
   ],
   "source": [
    "transaction[\"DateChargement\"] = pd.to_datetime(transaction[\"DateChargement\"])\n",
    "transaction[\"DateDéchargement\"] = pd.to_datetime(transaction[\"DateDéchargement\"])\n",
    "transaction.head()"
   ]
  },
  {
   "cell_type": "markdown",
   "metadata": {},
   "source": [
    "# What are the descriptions in the Contrat dataset?\n",
    "\n",
    "* Did the companies fully executed the service described in their contract?"
   ]
  },
  {
   "cell_type": "code",
   "execution_count": 12,
   "metadata": {},
   "outputs": [
    {
     "data": {
      "text/plain": [
       "Contrat attribué à entrepreneurs pour le transport de le neige uniquement                     59\n",
       "Contrat exécuté dans sa totalilité (Épandage, déblaiement, transport, etc..) par le privée    46\n",
       "Contrat exécuté par la régie                                                                  19\n",
       "NaN                                                                                            1\n",
       "Name: DescriptionType, dtype: int64"
      ]
     },
     "execution_count": 12,
     "metadata": {},
     "output_type": "execute_result"
    }
   ],
   "source": [
    "contrat[\"DescriptionType\"].value_counts(dropna=False)"
   ]
  },
  {
   "cell_type": "markdown",
   "metadata": {},
   "source": [
    "# What are the descriptions of the data?\n",
    "\n",
    "* Did the depots surpassed their capacity?\n"
   ]
  },
  {
   "cell_type": "code",
   "execution_count": 13,
   "metadata": {},
   "outputs": [
    {
     "data": {
      "text/plain": [
       "Chute_Egout    15\n",
       "Entassement    11\n",
       "Carierre        2\n",
       "Name: TypeDepot, dtype: int64"
      ]
     },
     "execution_count": 13,
     "metadata": {},
     "output_type": "execute_result"
    }
   ],
   "source": [
    "depot[\"TypeDepot\"].value_counts(dropna=False)"
   ]
  },
  {
   "cell_type": "code",
   "execution_count": 14,
   "metadata": {},
   "outputs": [
    {
     "data": {
      "text/plain": [
       "0      True\n",
       "1      True\n",
       "2      True\n",
       "3      True\n",
       "4     False\n",
       "5      True\n",
       "6      True\n",
       "7      True\n",
       "8     False\n",
       "9      True\n",
       "10     True\n",
       "11     True\n",
       "12     True\n",
       "13     True\n",
       "14    False\n",
       "15    False\n",
       "16    False\n",
       "17    False\n",
       "18     True\n",
       "19    False\n",
       "20     True\n",
       "21     True\n",
       "22     True\n",
       "23     True\n",
       "24     True\n",
       "25     True\n",
       "26     True\n",
       "27     True\n",
       "Name: Surpassed, dtype: bool"
      ]
     },
     "execution_count": 14,
     "metadata": {},
     "output_type": "execute_result"
    }
   ],
   "source": [
    "depot[\"Surpassed\"] = (depot[\"Capacite\"] - depot[\"VolumeDeverse\"]) < 0\n",
    "depot[\"Surpassed\"]\n",
    "\n",
    "# In 2016-17, most of the depots had their capacity surpassed\n",
    "# But what to do when the capacity is 0?"
   ]
  },
  {
   "cell_type": "code",
   "execution_count": 15,
   "metadata": {},
   "outputs": [
    {
     "data": {
      "text/plain": [
       "0.5357142857142857"
      ]
     },
     "execution_count": 15,
     "metadata": {},
     "output_type": "execute_result"
    }
   ],
   "source": [
    "# How many depots have the capacity equal to zero?\n",
    "(depot[\"Capacite\"] == 0).sum() / len(depot[\"Capacite\"])"
   ]
  },
  {
   "cell_type": "code",
   "execution_count": 16,
   "metadata": {},
   "outputs": [
    {
     "data": {
      "text/plain": [
       "1.0"
      ]
     },
     "execution_count": 16,
     "metadata": {},
     "output_type": "execute_result"
    }
   ],
   "source": [
    "# Do Chute_Egout always have capacity equals to 0? R.: Yes.\n",
    "egout_depots = depot[depot[\"TypeDepot\"] == \"Chute_Egout\"]\n",
    "capacity_zero = sum(egout_depots[\"Capacite\"] == 0)\n",
    "capacity_zero / len(egout_depots)"
   ]
  },
  {
   "cell_type": "markdown",
   "metadata": {},
   "source": [
    "# How much snow do we throw in each type of depot?\n"
   ]
  },
  {
   "cell_type": "code",
   "execution_count": 17,
   "metadata": {},
   "outputs": [
    {
     "data": {
      "text/plain": [
       "TypeDepot\n",
       "Chute_Egout    3229825.60\n",
       "Carierre       3601570.09\n",
       "Entassement    7638718.41\n",
       "Name: VolumeDeverse, dtype: float64"
      ]
     },
     "execution_count": 17,
     "metadata": {},
     "output_type": "execute_result"
    }
   ],
   "source": [
    "depot.groupby(by=\"TypeDepot\")[\"VolumeDeverse\"].sum().sort_values()"
   ]
  },
  {
   "cell_type": "markdown",
   "metadata": {},
   "source": [
    "# And in each depot?"
   ]
  },
  {
   "cell_type": "code",
   "execution_count": 18,
   "metadata": {},
   "outputs": [
    {
     "data": {
      "text/html": [
       "<div>\n",
       "<style scoped>\n",
       "    .dataframe tbody tr th:only-of-type {\n",
       "        vertical-align: middle;\n",
       "    }\n",
       "\n",
       "    .dataframe tbody tr th {\n",
       "        vertical-align: top;\n",
       "    }\n",
       "\n",
       "    .dataframe thead th {\n",
       "        text-align: right;\n",
       "    }\n",
       "</style>\n",
       "<table border=\"1\" class=\"dataframe\">\n",
       "  <thead>\n",
       "    <tr style=\"text-align: right;\">\n",
       "      <th></th>\n",
       "      <th>VolumeDeverse</th>\n",
       "    </tr>\n",
       "    <tr>\n",
       "      <th>NomDepot</th>\n",
       "      <th></th>\n",
       "    </tr>\n",
       "  </thead>\n",
       "  <tbody>\n",
       "    <tr>\n",
       "      <th>46 ieme (LAC)</th>\n",
       "      <td>254271.36</td>\n",
       "    </tr>\n",
       "    <tr>\n",
       "      <th>Anbar (CDN)</th>\n",
       "      <td>58567.63</td>\n",
       "    </tr>\n",
       "    <tr>\n",
       "      <th>Angrignon (LAS)</th>\n",
       "      <td>1598812.75</td>\n",
       "    </tr>\n",
       "    <tr>\n",
       "      <th>Armand-Chaput (RDP)</th>\n",
       "      <td>1060671.90</td>\n",
       "    </tr>\n",
       "    <tr>\n",
       "      <th>Autoroute 13 (PRF)</th>\n",
       "      <td>34427.78</td>\n",
       "    </tr>\n",
       "    <tr>\n",
       "      <th>Butler (S-O)</th>\n",
       "      <td>359614.74</td>\n",
       "    </tr>\n",
       "    <tr>\n",
       "      <th>Château Pierrefonds (PRF)</th>\n",
       "      <td>195647.79</td>\n",
       "    </tr>\n",
       "    <tr>\n",
       "      <th>De la Salle (MHM)</th>\n",
       "      <td>419138.87</td>\n",
       "    </tr>\n",
       "    <tr>\n",
       "      <th>Fullum (VMA)</th>\n",
       "      <td>493233.82</td>\n",
       "    </tr>\n",
       "    <tr>\n",
       "      <th>Iberville (PMR)</th>\n",
       "      <td>51995.85</td>\n",
       "    </tr>\n",
       "    <tr>\n",
       "      <th>Jules-Poitras 1 (AHU)</th>\n",
       "      <td>409158.27</td>\n",
       "    </tr>\n",
       "    <tr>\n",
       "      <th>Jules-Poitras 2 (SLA)</th>\n",
       "      <td>82738.27</td>\n",
       "    </tr>\n",
       "    <tr>\n",
       "      <th>Lafarge (sud) (MHM)</th>\n",
       "      <td>895641.07</td>\n",
       "    </tr>\n",
       "    <tr>\n",
       "      <th>Langelier (SLE)</th>\n",
       "      <td>1012110.88</td>\n",
       "    </tr>\n",
       "    <tr>\n",
       "      <th>Lausanne (MTN)</th>\n",
       "      <td>92881.51</td>\n",
       "    </tr>\n",
       "    <tr>\n",
       "      <th>Millen (AHU)</th>\n",
       "      <td>218149.50</td>\n",
       "    </tr>\n",
       "    <tr>\n",
       "      <th>Newman (S-O)</th>\n",
       "      <td>315827.49</td>\n",
       "    </tr>\n",
       "    <tr>\n",
       "      <th>Ray-Lawson (ANJ)</th>\n",
       "      <td>1457854.35</td>\n",
       "    </tr>\n",
       "    <tr>\n",
       "      <th>Riverside (VMA)</th>\n",
       "      <td>105322.91</td>\n",
       "    </tr>\n",
       "    <tr>\n",
       "      <th>Saint-Pierre (CDN)</th>\n",
       "      <td>161851.86</td>\n",
       "    </tr>\n",
       "    <tr>\n",
       "      <th>Saint-Pierre (LAC)</th>\n",
       "      <td>193253.52</td>\n",
       "    </tr>\n",
       "    <tr>\n",
       "      <th>Sartelon (SLA)</th>\n",
       "      <td>191015.32</td>\n",
       "    </tr>\n",
       "    <tr>\n",
       "      <th>Sauvé (AHU)</th>\n",
       "      <td>152553.99</td>\n",
       "    </tr>\n",
       "    <tr>\n",
       "      <th>St-Michel - Charland (VSP)</th>\n",
       "      <td>904069.51</td>\n",
       "    </tr>\n",
       "    <tr>\n",
       "      <th>St-Michel - Robert (VSP)</th>\n",
       "      <td>2697500.58</td>\n",
       "    </tr>\n",
       "    <tr>\n",
       "      <th>Stinson (SLA)</th>\n",
       "      <td>196338.63</td>\n",
       "    </tr>\n",
       "    <tr>\n",
       "      <th>Thimens (SLA)</th>\n",
       "      <td>622437.72</td>\n",
       "    </tr>\n",
       "    <tr>\n",
       "      <th>Verdun (VER)</th>\n",
       "      <td>235026.23</td>\n",
       "    </tr>\n",
       "  </tbody>\n",
       "</table>\n",
       "</div>"
      ],
      "text/plain": [
       "                            VolumeDeverse\n",
       "NomDepot                                 \n",
       "46 ieme (LAC)                   254271.36\n",
       "Anbar (CDN)                      58567.63\n",
       "Angrignon (LAS)                1598812.75\n",
       "Armand-Chaput (RDP)            1060671.90\n",
       "Autoroute 13 (PRF)               34427.78\n",
       "Butler (S-O)                    359614.74\n",
       "Château Pierrefonds (PRF)       195647.79\n",
       "De la Salle (MHM)               419138.87\n",
       "Fullum (VMA)                    493233.82\n",
       "Iberville (PMR)                  51995.85\n",
       "Jules-Poitras 1 (AHU)           409158.27\n",
       "Jules-Poitras 2 (SLA)            82738.27\n",
       "Lafarge (sud) (MHM)             895641.07\n",
       "Langelier (SLE)                1012110.88\n",
       "Lausanne (MTN)                   92881.51\n",
       "Millen (AHU)                    218149.50\n",
       "Newman (S-O)                    315827.49\n",
       "Ray-Lawson (ANJ)               1457854.35\n",
       "Riverside (VMA)                 105322.91\n",
       "Saint-Pierre (CDN)              161851.86\n",
       "Saint-Pierre (LAC)              193253.52\n",
       "Sartelon (SLA)                  191015.32\n",
       "Sauvé (AHU)                     152553.99\n",
       "St-Michel - Charland (VSP)      904069.51\n",
       "St-Michel - Robert (VSP)       2697500.58\n",
       "Stinson (SLA)                   196338.63\n",
       "Thimens (SLA)                   622437.72\n",
       "Verdun (VER)                    235026.23"
      ]
     },
     "execution_count": 18,
     "metadata": {},
     "output_type": "execute_result"
    }
   ],
   "source": [
    "depot.groupby(by=\"NomDepot\")[\"VolumeDeverse\"].sum().to_frame()"
   ]
  },
  {
   "cell_type": "code",
   "execution_count": null,
   "metadata": {},
   "outputs": [],
   "source": []
  }
 ],
 "metadata": {
  "kernelspec": {
   "display_name": "Python 3.8.2 32-bit",
   "language": "python",
   "name": "python3"
  },
  "language_info": {
   "codemirror_mode": {
    "name": "ipython",
    "version": 3
   },
   "file_extension": ".py",
   "mimetype": "text/x-python",
   "name": "python",
   "nbconvert_exporter": "python",
   "pygments_lexer": "ipython3",
   "version": "3.8.2"
  },
  "orig_nbformat": 4,
  "vscode": {
   "interpreter": {
    "hash": "bcc456af8acaccf4e47cc386c0b07c3b9d116d685b3fe1b93244a4f77e0484d3"
   }
  }
 },
 "nbformat": 4,
 "nbformat_minor": 2
}
